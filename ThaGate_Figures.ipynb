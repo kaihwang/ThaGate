{
 "cells": [
  {
   "cell_type": "code",
   "execution_count": 1,
   "metadata": {},
   "outputs": [
    {
     "name": "stderr",
     "output_type": "stream",
     "text": [
      "/usr/local/anaconda-2.4.0/lib/python2.7/site-packages/statsmodels/compat/pandas.py:56: FutureWarning: The pandas.core.datetools module is deprecated and will be removed in a future version. Please use the pandas.tseries module instead.\n",
      "  from pandas.core import datetools\n"
     ]
    }
   ],
   "source": [
    "from FuncParcel import *\n",
    "import numpy as np\n",
    "import nibabel as nib\n",
    "import pandas as pd\n",
    "import seaborn as sns\n",
    "import matplotlib.pyplot as plt\n",
    "import statsmodels.api as sm\n",
    "from dFC_graph import coupling\n",
    "from matplotlib import colors\n",
    "import pickle as pickle\n",
    "%matplotlib inline"
   ]
  },
  {
   "cell_type": "code",
   "execution_count": 18,
   "metadata": {},
   "outputs": [],
   "source": [
    "#load data\n",
    "measures = ['PC', 'WMD', 'WW', 'BW', 'q']\n",
    "NKI_Rest = pd.read_csv('Data/NKI_Target_MTD_Node_Impose_df.csv')\n",
    "HCP_Rest = pd.read_csv('Data/HCP_Rest_indvTarget_MTD_Node_Impose_df.csv')\n",
    "HCP_WM = pd.read_csv('Data/HCP_WM_indvTarget_MTD_Node_Impose_df.csv')\n",
    "HCP_MOTOR = pd.read_csv('Data/HCP_indvMOTOR_Target_MTD_Node_Impose_df.csv')"
   ]
  },
  {
   "cell_type": "code",
   "execution_count": 19,
   "metadata": {
    "scrolled": true
   },
   "outputs": [
    {
     "data": {
      "image/png": "[encoded data removed]",
      "text/plain": [
       "<matplotlib.figure.Figure at 0x7f1ae70e2750>"
      ]
     },
     "metadata": {},
     "output_type": "display_data"
    }
   ],
   "source": [
    "for measure in ['WMD']:\n",
    "\t#sns.set_context(\"poster\", font_scale=1.7)\n",
    "\t#plt.figure(figsize=(8, 6))\n",
    "\tsns_plot = sns.factorplot(x='Thalamic Nuclei', y=measure, data=HCP_WM , kind='bar', size=3, aspect=2)\n",
    "\tplt.axhline(y=3.2, color='r', linestyle='-')\n",
    "\tplt.axhline(y=-3.2, color='r', linestyle='-')\n",
    "\tplt.ylabel('t stat')\n",
    "\tplt.title('WMD')\n",
    "\t#fn = measure + '.png'\n",
    "\t#sns_plot.savefig(fn)\n",
    "\n"
   ]
  },
  {
   "cell_type": "code",
   "execution_count": null,
   "metadata": {
    "collapsed": true
   },
   "outputs": [],
   "source": []
  }
 ],
 "metadata": {
  "kernelspec": {
   "display_name": "Python [default]",
   "language": "python",
   "name": "python2"
  },
  "language_info": {
   "codemirror_mode": {
    "name": "ipython",
    "version": 2
   },
   "file_extension": ".py",
   "mimetype": "text/x-python",
   "name": "python",
   "nbconvert_exporter": "python",
   "pygments_lexer": "ipython2",
   "version": "2.7.13"
  }
 },
 "nbformat": 4,
 "nbformat_minor": 2
}
